{
 "cells": [
  {
   "cell_type": "code",
   "execution_count": 1,
   "id": "7a584c6a-a2d1-4b36-bba9-9760e5affbf8",
   "metadata": {},
   "outputs": [],
   "source": [
    "import audio_augmentation as aa"
   ]
  },
  {
   "cell_type": "code",
   "execution_count": 2,
   "id": "cd037e24-2bc1-4ec9-9b44-a11774c870cd",
   "metadata": {},
   "outputs": [],
   "source": [
    "import torch\n",
    "import torchaudio\n",
    "import numpy as np"
   ]
  },
  {
   "cell_type": "code",
   "execution_count": 3,
   "id": "e181f655-aaad-4ab3-9d45-53c4d1a712c5",
   "metadata": {},
   "outputs": [],
   "source": [
    "waveform, sample_rate = torchaudio.load('data/test_viole_2.wav')"
   ]
  },
  {
   "cell_type": "code",
   "execution_count": 4,
   "id": "0af93159-e7c3-4684-bfbe-7dab04faa714",
   "metadata": {},
   "outputs": [
    {
     "name": "stderr",
     "output_type": "stream",
     "text": [
      "/home/roman/.local/lib/python3.10/site-packages/torchaudio/functional/functional.py:584: UserWarning: At least one mel filterbank has all zero values. The value for `n_mels` (128) may be set too high. Or, the value for `n_freqs` (201) may be set too low.\n",
      "  warnings.warn(\n"
     ]
    }
   ],
   "source": [
    "mfcc_transform = torchaudio.transforms.MFCC(\n",
    "    sample_rate=sample_rate\n",
    ")\n",
    "\n",
    "lms_transform = torchaudio.transforms.MelSpectrogram(\n",
    "    sample_rate=sample_rate\n",
    ")"
   ]
  },
  {
   "cell_type": "code",
   "execution_count": 5,
   "id": "18cd7b5a-ff0a-45e2-899a-d98b0ed1fbba",
   "metadata": {},
   "outputs": [],
   "source": [
    "mfcc = mfcc_transform(waveform)\n",
    "lms = lms_transform(waveform)"
   ]
  },
  {
   "cell_type": "code",
   "execution_count": 6,
   "id": "55a1dc21-3113-4f9b-a96f-8a14990eeb63",
   "metadata": {},
   "outputs": [],
   "source": [
    "# normalize lms\n",
    "lms = torch.log(lms + 1e-9)\n",
    "\n",
    "lms -= lms.mean()\n",
    "lms /= (lms.std() + 1e-6)\n",
    "\n",
    "lms = lms.float()"
   ]
  },
  {
   "cell_type": "markdown",
   "id": "999732d7-0cac-41b0-bdf0-18e6822824e0",
   "metadata": {},
   "source": [
    "### Check functions"
   ]
  },
  {
   "cell_type": "markdown",
   "id": "51a7eaba-13ef-4151-97e6-10e502a683e1",
   "metadata": {},
   "source": [
    "#### MFCC"
   ]
  },
  {
   "cell_type": "code",
   "execution_count": 7,
   "id": "9cab3eb0-6669-4aea-b417-7156129e9a9a",
   "metadata": {},
   "outputs": [
    {
     "data": {
      "text/plain": [
       "tensor([-328.9099, -267.8841, -224.3265,  ..., -290.2507, -295.1046,\n",
       "        -373.5463])"
      ]
     },
     "execution_count": 7,
     "metadata": {},
     "output_type": "execute_result"
    }
   ],
   "source": [
    "mfcc[0, 0]"
   ]
  },
  {
   "cell_type": "code",
   "execution_count": 8,
   "id": "f022a141-1b29-4dd4-a4a5-8204437284be",
   "metadata": {},
   "outputs": [
    {
     "data": {
      "text/plain": [
       "torch.Size([2, 40, 3529])"
      ]
     },
     "execution_count": 8,
     "metadata": {},
     "output_type": "execute_result"
    }
   ],
   "source": [
    "mfcc.shape"
   ]
  },
  {
   "cell_type": "code",
   "execution_count": 9,
   "id": "eb67abc2-ebfd-48a2-ac87-20e90a62751b",
   "metadata": {},
   "outputs": [],
   "source": [
    "aug_mfcc = aa.augment_mfcc(\n",
    "    mfcc=mfcc, sample_rate=sample_rate, speed_factor=0.5, \n",
    "    freq_start_remove=10, freq_end_remove=20, noise=0.02\n",
    ")"
   ]
  },
  {
   "cell_type": "code",
   "execution_count": 10,
   "id": "8e15e255-356a-4ba8-bd5f-3e76513c5eeb",
   "metadata": {},
   "outputs": [
    {
     "data": {
      "text/plain": [
       "tensor([-234.0032, -248.1602, -168.3893,  ..., -283.0197, -308.9566,\n",
       "        -260.4059])"
      ]
     },
     "execution_count": 10,
     "metadata": {},
     "output_type": "execute_result"
    }
   ],
   "source": [
    "aug_mfcc[0, 0]"
   ]
  },
  {
   "cell_type": "code",
   "execution_count": 11,
   "id": "67e82729-23f7-4217-aafd-d362b4f81d88",
   "metadata": {},
   "outputs": [
    {
     "data": {
      "text/plain": [
       "torch.Size([2, 30, 1765])"
      ]
     },
     "execution_count": 11,
     "metadata": {},
     "output_type": "execute_result"
    }
   ],
   "source": [
    "aug_mfcc.shape"
   ]
  },
  {
   "cell_type": "code",
   "execution_count": 12,
   "id": "7290b83c-26a5-45c7-84d3-17e3eb10f569",
   "metadata": {},
   "outputs": [],
   "source": [
    "aug_mfcc = aa.augment_mfcc(\n",
    "    mfcc=mfcc, time_start_remove=100, time_end_remove=200,\n",
    "    freq_start_remove=10, freq_end_remove=20, noise=0.02\n",
    ")"
   ]
  },
  {
   "cell_type": "code",
   "execution_count": 13,
   "id": "e38bc13c-eda7-41b9-9007-b8eec07c9f7c",
   "metadata": {},
   "outputs": [
    {
     "data": {
      "text/plain": [
       "torch.Size([2, 30, 3429])"
      ]
     },
     "execution_count": 13,
     "metadata": {},
     "output_type": "execute_result"
    }
   ],
   "source": [
    "aug_mfcc.shape"
   ]
  },
  {
   "cell_type": "markdown",
   "id": "cb09c394-ff13-415a-9ae6-0a5069c1f9b3",
   "metadata": {},
   "source": [
    "### LogMelSpectrogran"
   ]
  },
  {
   "cell_type": "code",
   "execution_count": 14,
   "id": "29b55592-b75e-4c3e-b938-0f671e9bca8f",
   "metadata": {},
   "outputs": [
    {
     "data": {
      "text/plain": [
       "tensor([-2.2058, -2.2058, -2.2058,  ..., -2.2058, -2.2058, -2.2058])"
      ]
     },
     "execution_count": 14,
     "metadata": {},
     "output_type": "execute_result"
    }
   ],
   "source": [
    "lms[0, 0]"
   ]
  },
  {
   "cell_type": "code",
   "execution_count": 15,
   "id": "6b533307-04a9-44b9-8ef1-dad81a933066",
   "metadata": {},
   "outputs": [
    {
     "data": {
      "text/plain": [
       "torch.Size([2, 128, 3529])"
      ]
     },
     "execution_count": 15,
     "metadata": {},
     "output_type": "execute_result"
    }
   ],
   "source": [
    "lms.shape"
   ]
  },
  {
   "cell_type": "code",
   "execution_count": 16,
   "id": "6e757dba-1a21-4443-8a3f-e6927e1c1d21",
   "metadata": {},
   "outputs": [],
   "source": [
    "aug_lms = aa.augment_logmel_spectrogram(\n",
    "    logmel_spec=lms, speed_factor=0.5, freq_start_remove=10, \n",
    "    freq_end_remove=20, noise=0.02\n",
    ")"
   ]
  },
  {
   "cell_type": "code",
   "execution_count": 17,
   "id": "3071966c-06d4-4ef2-9af1-a43805f935cd",
   "metadata": {},
   "outputs": [
    {
     "data": {
      "text/plain": [
       "tensor([-2.2146, -2.2173, -2.2309,  ..., -2.2107, -2.1689, -2.2039])"
      ]
     },
     "execution_count": 17,
     "metadata": {},
     "output_type": "execute_result"
    }
   ],
   "source": [
    "aug_lms[0, 0]"
   ]
  },
  {
   "cell_type": "code",
   "execution_count": 18,
   "id": "c441c2c0-ef45-4478-b05c-dac1f21ce3ca",
   "metadata": {},
   "outputs": [
    {
     "data": {
      "text/plain": [
       "torch.Size([2, 118, 1764])"
      ]
     },
     "execution_count": 18,
     "metadata": {},
     "output_type": "execute_result"
    }
   ],
   "source": [
    "aug_lms.shape"
   ]
  },
  {
   "cell_type": "code",
   "execution_count": 19,
   "id": "60d87ecb-f5a9-46dd-8776-6b4f29816c52",
   "metadata": {},
   "outputs": [],
   "source": [
    "aug_lms = aa.augment_logmel_spectrogram(\n",
    "    logmel_spec=lms, speed_factor=0.5, time_start_remove=100,\n",
    "    time_end_remove=200, freq_start_remove=10, freq_end_remove=20,\n",
    "    noise=0.02\n",
    ")"
   ]
  },
  {
   "cell_type": "code",
   "execution_count": 20,
   "id": "2fabb4e6-b399-48ca-bf16-93e7dfc626a3",
   "metadata": {},
   "outputs": [
    {
     "data": {
      "text/plain": [
       "torch.Size([2, 118, 1664])"
      ]
     },
     "execution_count": 20,
     "metadata": {},
     "output_type": "execute_result"
    }
   ],
   "source": [
    "aug_lms.shape"
   ]
  }
 ],
 "metadata": {
  "kernelspec": {
   "display_name": "Python 3 (ipykernel)",
   "language": "python",
   "name": "python3"
  },
  "language_info": {
   "codemirror_mode": {
    "name": "ipython",
    "version": 3
   },
   "file_extension": ".py",
   "mimetype": "text/x-python",
   "name": "python",
   "nbconvert_exporter": "python",
   "pygments_lexer": "ipython3",
   "version": "3.10.12"
  }
 },
 "nbformat": 4,
 "nbformat_minor": 5
}
